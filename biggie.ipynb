{
 "cells": [
  {
   "cell_type": "code",
   "execution_count": 85,
   "id": "90be4c4b",
   "metadata": {},
   "outputs": [],
   "source": [
    "import numpy as np\n",
    "import pandas as pd\n",
    "import seaborn as sns\n",
    "import matplotlib.pyplot as plt\n",
    "import statsmodels.api as sm"
   ]
  },
  {
   "cell_type": "code",
   "execution_count": 86,
   "id": "e38568d5",
   "metadata": {},
   "outputs": [
    {
     "name": "stderr",
     "output_type": "stream",
     "text": [
      "/Users/brycecapuano/opt/anaconda3/lib/python3.9/site-packages/IPython/core/interactiveshell.py:3444: DtypeWarning: Columns (39,151,274,275,276,277,278,279,280,281,282,283,284,285,286,287,288,289,290,291,292,293,294,295,296,297) have mixed types.Specify dtype option on import or set low_memory=False.\n",
      "  exec(code_obj, self.user_global_ns, self.user_ns)\n"
     ]
    }
   ],
   "source": [
    "df = pd.read_csv('NYSV2FIXED.csv')"
   ]
  },
  {
   "cell_type": "code",
   "execution_count": 87,
   "id": "278eb20f",
   "metadata": {},
   "outputs": [
    {
     "name": "stdout",
     "output_type": "stream",
     "text": [
      "<class 'pandas.core.frame.DataFrame'>\n",
      "RangeIndex: 14769 entries, 0 to 14768\n",
      "Columns: 329 entries, _STATE to CHILDREN\n",
      "dtypes: float64(10), int64(10), object(309)\n",
      "memory usage: 37.1+ MB\n",
      "Not asked or Missing    5961\n",
      "Male                    4408\n",
      "Female                  4400\n",
      "Name: CELLSEX, dtype: int64\n"
     ]
    },
    {
     "data": {
      "text/plain": [
       "<AxesSubplot:xlabel='CELLSEX', ylabel='COUNT'>"
      ]
     },
     "execution_count": 87,
     "metadata": {},
     "output_type": "execute_result"
    },
    {
     "data": {
      "image/png": "[encoded data removed]",
      "text/plain": [
       "<Figure size 432x288 with 1 Axes>"
      ]
     },
     "metadata": {
      "needs_background": "light"
     },
     "output_type": "display_data"
    }
   ],
   "source": [
    "df.dtypes\n",
    "df.info()\n",
    "# MY NAME BRYCE\n",
    "sexes = df['CELLSEX'].value_counts()\n",
    "print(sexes)\n",
    "sexesCount = pd.DataFrame({'CELLSEX':sexes.index, 'COUNT':sexes.values})\n",
    "sns.barplot(data = sexesCount,x = 'CELLSEX', y = 'COUNT')"
   ]
  },
  {
   "cell_type": "code",
   "execution_count": 142,
   "id": "6df1b650",
   "metadata": {},
   "outputs": [],
   "source": [
    "incomes = pd.DataFrame(columns=['INCOME2'])\n",
    "\n",
    "for i in df['INCOME2']:\n",
    "    #if it falls into either of these ranges...add it to the new dataframe\n",
    "    if i == \"$75,000 or more\":\n",
    "        incomes = incomes.append(pd.DataFrame([[\"75k+\"]], columns=['INCOME2']))\n",
    "    elif i == \"Refused\":\n",
    "        incomes = incomes.append(pd.DataFrame([[\"NA\"]], columns=['INCOME2']))\n",
    "    elif i == \"Less than $75,000 ($50,000 to less than $75,000)\":\n",
    "        incomes = incomes.append(pd.DataFrame([[\"50k-75k\"]], columns=['INCOME2']))\n",
    "    elif i == \"Don’t know/Not sure\":\n",
    "        incomes = incomes.append(pd.DataFrame([[\"NA\"]], columns=['INCOME2']))\n",
    "    elif i == \"Less than $35,000 ($25,000 to less than $35,000)\":\n",
    "        incomes = incomes.append(pd.DataFrame([[\"25k-35k\"]], columns=['INCOME2']))\n",
    "    elif i == \"Less than $25,000 ($20,000 to less than $25,000)\":\n",
    "        incomes = incomes.append(pd.DataFrame([[\"20k-25k\"]], columns=['INCOME2']))\n",
    "    elif i == \"Less than $20,000 ($15,000 to less than $20,000)\":\n",
    "        incomes = incomes.append(pd.DataFrame([[\"15k-20k\"]], columns=['INCOME2']))\n",
    "    elif i == \"Less than $15,000 ($10,000 to less than $15,000)\":\n",
    "        incomes = incomes.append(pd.DataFrame([[\"10k-15k\"]], columns=['INCOME2']))\n",
    "    elif i == \"Less than $10,000\":\n",
    "        incomes = incomes.append(pd.DataFrame([[\"<10k\"]], columns=['INCOME2']))\n",
    "    elif i == \"Not asked or Missing\":\n",
    "        incomes = incomes.append(pd.DataFrame([[\"NA\"]], columns=['INCOME2']))\n",
    "    else: # for invalid entries\n",
    "        pass"
   ]
  },
  {
   "cell_type": "code",
   "execution_count": 141,
   "id": "5b240105",
   "metadata": {},
   "outputs": [
    {
     "name": "stdout",
     "output_type": "stream",
     "text": [
      "                                             INCOME2  COUNT\n",
      "0                                    $75,000 or more   4722\n",
      "1                                            Refused   1890\n",
      "2   Less than $75,000 ($50,000 to less than $75,000)   1655\n",
      "3   Less than $50,000 ($35,000 to less than $50,000)   1324\n",
      "4                                Don’t know/Not sure   1188\n",
      "5   Less than $35,000 ($25,000 to less than $35,000)    974\n",
      "6   Less than $25,000 ($20,000 to less than $25,000)    898\n",
      "7   Less than $20,000 ($15,000 to less than $20,000)    748\n",
      "8   Less than $15,000 ($10,000 to less than $15,000)    499\n",
      "9                                  Less than $10,000    455\n",
      "10                              Not asked or Missing    416\n"
     ]
    },
    {
     "data": {
      "text/plain": [
       "<AxesSubplot:>"
      ]
     },
     "execution_count": 141,
     "metadata": {},
     "output_type": "execute_result"
    },
    {
     "data": {
      "image/png": "[encoded data removed]",
      "text/plain": [
       "<Figure size 720x720 with 1 Axes>"
      ]
     },
     "metadata": {
      "needs_background": "light"
     },
     "output_type": "display_data"
    }
   ],
   "source": [
    "print(incomesCount)\n",
    "#sns.histplot(data = incomesCount,x = 'INCOME2', y = 'COUNT', palette=\"pastel\")\n",
    "incomes['INCOME2'].hist(figsize=(10,10), bins=7)"
   ]
  },
  {
   "cell_type": "code",
   "execution_count": null,
   "id": "9b85cd18",
   "metadata": {},
   "outputs": [],
   "source": []
  }
 ],
 "metadata": {
  "kernelspec": {
   "display_name": "Python 3 (ipykernel)",
   "language": "python",
   "name": "python3"
  },
  "language_info": {
   "codemirror_mode": {
    "name": "ipython",
    "version": 3
   },
   "file_extension": ".py",
   "mimetype": "text/x-python",
   "name": "python",
   "nbconvert_exporter": "python",
   "pygments_lexer": "ipython3",
   "version": "3.9.7"
  }
 },
 "nbformat": 4,
 "nbformat_minor": 5
}
