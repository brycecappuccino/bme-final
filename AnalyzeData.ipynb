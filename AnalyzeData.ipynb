{
 "cells": [
  {
   "cell_type": "code",
   "execution_count": 43,
   "id": "f3177bd5",
   "metadata": {},
   "outputs": [],
   "source": [
    "import pandas as pd\n",
    "import numpy as np\n",
    "import matplotlib.pyplot as plt\n",
    "from sklearn.neighbors import KNeighborsClassifier\n",
    "from sklearn.model_selection import train_test_split\n",
    "import seaborn as sns\n",
    "\n"
   ]
  },
  {
   "cell_type": "code",
   "execution_count": 60,
   "id": "f20c81d8",
   "metadata": {},
   "outputs": [
    {
     "data": {
      "text/plain": [
       "4859001"
      ]
     },
     "execution_count": 60,
     "metadata": {},
     "output_type": "execute_result"
    }
   ],
   "source": [
    "data = pd.read_csv('data.csv') # load file\n",
    "data.size"
   ]
  },
  {
   "cell_type": "code",
   "execution_count": 9,
   "id": "e2674a6f",
   "metadata": {},
   "outputs": [
    {
     "data": {
      "text/plain": [
       "_STATE          object\n",
       "IDATE            int64\n",
       "IMONTH           int64\n",
       "IDAY             int64\n",
       "IYEAR            int64\n",
       "                 ...  \n",
       "PPS_48          object\n",
       "PPS_52          object\n",
       "SEXNOCON_OTH    object\n",
       "NOVEGFRU_OTH    object\n",
       "CHILDREN        object\n",
       "Length: 329, dtype: object"
      ]
     },
     "execution_count": 9,
     "metadata": {},
     "output_type": "execute_result"
    }
   ],
   "source": [
    "data.dtypes"
   ]
  },
  {
   "cell_type": "code",
   "execution_count": 73,
   "id": "bb72e2c3",
   "metadata": {},
   "outputs": [
    {
     "data": {
      "text/html": [
       "<div>\n",
       "<style scoped>\n",
       "    .dataframe tbody tr th:only-of-type {\n",
       "        vertical-align: middle;\n",
       "    }\n",
       "\n",
       "    .dataframe tbody tr th {\n",
       "        vertical-align: top;\n",
       "    }\n",
       "\n",
       "    .dataframe thead th {\n",
       "        text-align: right;\n",
       "    }\n",
       "</style>\n",
       "<table border=\"1\" class=\"dataframe\">\n",
       "  <thead>\n",
       "    <tr style=\"text-align: right;\">\n",
       "      <th></th>\n",
       "      <th>AGE</th>\n",
       "    </tr>\n",
       "  </thead>\n",
       "  <tbody>\n",
       "    <tr>\n",
       "      <th>0</th>\n",
       "      <td>65</td>\n",
       "    </tr>\n",
       "    <tr>\n",
       "      <th>0</th>\n",
       "      <td>55</td>\n",
       "    </tr>\n",
       "    <tr>\n",
       "      <th>0</th>\n",
       "      <td>65</td>\n",
       "    </tr>\n",
       "    <tr>\n",
       "      <th>0</th>\n",
       "      <td>65</td>\n",
       "    </tr>\n",
       "    <tr>\n",
       "      <th>0</th>\n",
       "      <td>35</td>\n",
       "    </tr>\n",
       "    <tr>\n",
       "      <th>...</th>\n",
       "      <td>...</td>\n",
       "    </tr>\n",
       "    <tr>\n",
       "      <th>0</th>\n",
       "      <td>25</td>\n",
       "    </tr>\n",
       "    <tr>\n",
       "      <th>0</th>\n",
       "      <td>25</td>\n",
       "    </tr>\n",
       "    <tr>\n",
       "      <th>0</th>\n",
       "      <td>15</td>\n",
       "    </tr>\n",
       "    <tr>\n",
       "      <th>0</th>\n",
       "      <td>45</td>\n",
       "    </tr>\n",
       "    <tr>\n",
       "      <th>0</th>\n",
       "      <td>25</td>\n",
       "    </tr>\n",
       "  </tbody>\n",
       "</table>\n",
       "<p>14212 rows × 1 columns</p>\n",
       "</div>"
      ],
      "text/plain": [
       "   AGE\n",
       "0   65\n",
       "0   55\n",
       "0   65\n",
       "0   65\n",
       "0   35\n",
       "..  ..\n",
       "0   25\n",
       "0   25\n",
       "0   15\n",
       "0   45\n",
       "0   25\n",
       "\n",
       "[14212 rows x 1 columns]"
      ]
     },
     "execution_count": 73,
     "metadata": {},
     "output_type": "execute_result"
    }
   ],
   "source": [
    "## Plots for age (hist), gender (bar), income (hist), preexisting conditions vs disease (pair plots)\n",
    "## \n",
    "\n",
    "#for i in data['AGE']:\n",
    "#    print(i)\n",
    "## based off above code, it looks like all entries are either\n",
    "## \"Age __ - __\", \"Refused\", or \"Don’t know/Not sure\"\n",
    "## Crop the first option to be the lower bound age and plot a histogram\n",
    "\n",
    "#define a new dataframe just for age entries\n",
    "data_age = pd.DataFrame(columns=['AGE'])\n",
    "\n",
    "# iterate through each age entry of OG dataset\n",
    "for i in data['AGE']:\n",
    "    #if it falls into either of these ranges...add it to the new dataframe\n",
    "    if i == \"Age 65 or older\":\n",
    "        data_age = data_age.append(pd.DataFrame([[65]], columns=['AGE']))\n",
    "    elif i == \"Age 55 - 64\":\n",
    "        data_age = data_age.append(pd.DataFrame([[55]], columns=['AGE']))\n",
    "    elif i == \"Age 45 - 54\":\n",
    "        data_age = data_age.append(pd.DataFrame([[45]], columns=['AGE']))\n",
    "    elif i == \"Age 35 - 44\":\n",
    "        data_age = data_age.append(pd.DataFrame([[35]], columns=['AGE']))\n",
    "    elif i == \"Age 25 - 34\":\n",
    "        data_age = data_age.append(pd.DataFrame([[25]], columns=['AGE']))\n",
    "    elif i == \"Age 18 - 24\":\n",
    "        data_age = data_age.append(pd.DataFrame([[15]], columns=['AGE']))\n",
    "    else: # for invalid entries\n",
    "        pass\n",
    "\n",
    "# print out the new dataframe with just age...\n",
    "data_age\n"
   ]
  },
  {
   "cell_type": "code",
   "execution_count": 74,
   "id": "ab53f4fc",
   "metadata": {},
   "outputs": [
    {
     "data": {
      "text/plain": [
       "<AxesSubplot:>"
      ]
     },
     "execution_count": 74,
     "metadata": {},
     "output_type": "execute_result"
    },
    {
     "data": {
      "image/png": "[encoded data removed]",
      "text/plain": [
       "<Figure size 720x720 with 1 Axes>"
      ]
     },
     "metadata": {
      "needs_background": "light"
     },
     "output_type": "display_data"
    }
   ],
   "source": [
    "data_age['AGE'].hist(figsize=(10,10), bins=6)\n",
    "## there is not a normal distribution of age -- the number of people responding\n",
    "## trends older"
   ]
  },
  {
   "cell_type": "code",
   "execution_count": null,
   "id": "4c4e1c8c",
   "metadata": {},
   "outputs": [],
   "source": []
  }
 ],
 "metadata": {
  "kernelspec": {
   "display_name": "Python 3 (ipykernel)",
   "language": "python",
   "name": "python3"
  },
  "language_info": {
   "codemirror_mode": {
    "name": "ipython",
    "version": 3
   },
   "file_extension": ".py",
   "mimetype": "text/x-python",
   "name": "python",
   "nbconvert_exporter": "python",
   "pygments_lexer": "ipython3",
   "version": "3.9.7"
  },
  "toc": {
   "base_numbering": 1,
   "nav_menu": {},
   "number_sections": true,
   "sideBar": true,
   "skip_h1_title": false,
   "title_cell": "Table of Contents",
   "title_sidebar": "Contents",
   "toc_cell": false,
   "toc_position": {},
   "toc_section_display": true,
   "toc_window_display": false
  }
 },
 "nbformat": 4,
 "nbformat_minor": 5
}
